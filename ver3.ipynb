{
 "cells": [
  {
   "cell_type": "code",
   "execution_count": null,
   "id": "45bf39c0",
   "metadata": {
    "_cell_guid": "b1076dfc-b9ad-4769-8c92-a6c4dae69d19",
    "_uuid": "8f2839f25d086af736a60e9eeb907d3b93b6e0e5",
    "execution": {
     "iopub.execute_input": "2023-11-07T10:53:17.572772Z",
     "iopub.status.busy": "2023-11-07T10:53:17.572012Z",
     "iopub.status.idle": "2023-11-07T10:53:22.655424Z",
     "shell.execute_reply": "2023-11-07T10:53:22.654592Z"
    },
    "papermill": {
     "duration": 5.094667,
     "end_time": "2023-11-07T10:53:22.657781",
     "exception": false,
     "start_time": "2023-11-07T10:53:17.563114",
     "status": "completed"
    },
    "tags": []
   },
   "outputs": [],
   "source": [
    "import gc  \n",
    "import os  \n",
    "import time  \n",
    "import warnings \n",
    "from itertools import combinations  \n",
    "from warnings import simplefilter \n",
    "import joblib  \n",
    "import lightgbm as lgb  \n",
    "import numpy as np  \n",
    "import pandas as pd  \n",
    "from sklearn.metrics import mean_absolute_error \n",
    "from sklearn.model_selection import KFold, TimeSeriesSplit  \n",
    "warnings.filterwarnings(\"ignore\")\n",
    "simplefilter(action=\"ignore\", category=pd.errors.PerformanceWarning)\n",
    "is_offline = False \n",
    "is_train = True  \n",
    "is_infer = True \n",
    "max_lookback = np.nan \n",
    "split_day = 435  \n"
   ]
  },
  {
   "cell_type": "markdown",
   "id": "3b947e00",
   "metadata": {
    "papermill": {
     "duration": 0.004762,
     "end_time": "2023-11-07T10:53:22.667877",
     "exception": false,
     "start_time": "2023-11-07T10:53:22.663115",
     "status": "completed"
    },
    "tags": []
   },
   "source": [
    "# Data Loading and Preprocessing \n",
    "\n",
    "\n",
    "\n",
    "\n"
   ]
  },
  {
   "cell_type": "code",
   "execution_count": null,
   "id": "91812dac",
   "metadata": {
    "execution": {
     "iopub.execute_input": "2023-11-07T10:53:22.679599Z",
     "iopub.status.busy": "2023-11-07T10:53:22.678658Z",
     "iopub.status.idle": "2023-11-07T10:53:41.209679Z",
     "shell.execute_reply": "2023-11-07T10:53:41.208861Z"
    },
    "papermill": {
     "duration": 18.539512,
     "end_time": "2023-11-07T10:53:41.212123",
     "exception": false,
     "start_time": "2023-11-07T10:53:22.672611",
     "status": "completed"
    },
    "tags": []
   },
   "outputs": [],
   "source": [
    "df = pd.read_csv(\"../input/optiver-trading-at-the-close/train.csv\")\n",
    "df = df.dropna(subset=[\"target\"])\n",
    "df.reset_index(drop=True, inplace=True)\n",
    "df_shape = df.shape\n",
    "\n"
   ]
  },
  {
   "cell_type": "markdown",
   "id": "42b240f3",
   "metadata": {
    "papermill": {
     "duration": 0.004469,
     "end_time": "2023-11-07T10:53:41.221729",
     "exception": false,
     "start_time": "2023-11-07T10:53:41.217260",
     "status": "completed"
    },
    "tags": []
   },
   "source": [
    "# Memory Optimization"
   ]
  },
  {
   "cell_type": "code",
   "execution_count": null,
   "id": "57991cad",
   "metadata": {
    "execution": {
     "iopub.execute_input": "2023-11-07T10:53:41.232476Z",
     "iopub.status.busy": "2023-11-07T10:53:41.232173Z",
     "iopub.status.idle": "2023-11-07T10:53:41.372977Z",
     "shell.execute_reply": "2023-11-07T10:53:41.372217Z"
    },
    "papermill": {
     "duration": 0.148436,
     "end_time": "2023-11-07T10:53:41.374914",
     "exception": false,
     "start_time": "2023-11-07T10:53:41.226478",
     "status": "completed"
    },
    "tags": []
   },
   "outputs": [],
   "source": [
    "def reduce_mem_usage(df, verbose=0):\n",
    "    start_mem = df.memory_usage().sum() / 1024**2\n",
    "    for col in df.columns:\n",
    "        col_type = df[col].dtype\n",
    "        if col_type != object:\n",
    "            c_min = df[col].min()\n",
    "            c_max = df[col].max()\n",
    "            \n",
    "            if str(col_type)[:3] == \"int\":\n",
    "                if c_min > np.iinfo(np.int8).min and c_max < np.iinfo(np.int8).max:\n",
    "                    df[col] = df[col].astype(np.int8)\n",
    "                elif c_min > np.iinfo(np.int16).min and c_max < np.iinfo(np.int16).max:\n",
    "                    df[col] = df[col].astype(np.int16)\n",
    "                elif c_min > np.iinfo(np.int32).min and c_max < np.iinfo(np.int32).max:\n",
    "                    df[col] = df[col].astype(np.int32)\n",
    "                elif c_min > np.iinfo(np.int64).min and c_max < np.iinfo(np.int64).max:\n",
    "                    df[col] = df[col].astype(np.int64)\n",
    "            else:\n",
    "               \n",
    "                if c_min > np.finfo(np.float16).min and c_max < np.finfo(np.float16).max:\n",
    "                    df[col] = df[col].astype(np.float32)\n",
    "                elif c_min > np.finfo(np.float32).min and c_max < np.finfo(np.float32).max:\n",
    "                    df[col] = df[col].astype(np.float32)\n",
    "                else:\n",
    "                    df[col] = df[col].astype(np.float32)\n",
    "    if verbose:\n",
    "        logger.info(f\"Memory usage of dataframe is {start_mem:.2f} MB\")\n",
    "        end_mem = df.memory_usage().sum() / 1024**2\n",
    "        logger.info(f\"Memory usage after optimization is: {end_mem:.2f} MB\")\n",
    "        decrease = 100 * (start_mem - end_mem) / start_mem\n",
    "        logger.info(f\"Decreased by {decrease:.2f}%\")\n",
    "    return df\n"
   ]
  },
  {
   "cell_type": "markdown",
   "id": "5be73d99",
   "metadata": {
    "papermill": {
     "duration": 0.004594,
     "end_time": "2023-11-07T10:53:41.384324",
     "exception": false,
     "start_time": "2023-11-07T10:53:41.379730",
     "status": "completed"
    },
    "tags": []
   },
   "source": [
    " # Parallel Triplet Imbalance Calculation"
   ]
  },
  {
   "cell_type": "code",
   "execution_count": null,
   "id": "4b59c00f",
   "metadata": {
    "execution": {
     "iopub.execute_input": "2023-11-07T10:53:41.395046Z",
     "iopub.status.busy": "2023-11-07T10:53:41.394717Z",
     "iopub.status.idle": "2023-11-07T10:53:42.011646Z",
     "shell.execute_reply": "2023-11-07T10:53:42.010868Z"
    },
    "papermill": {
     "duration": 0.625119,
     "end_time": "2023-11-07T10:53:42.014069",
     "exception": false,
     "start_time": "2023-11-07T10:53:41.388950",
     "status": "completed"
    },
    "tags": []
   },
   "outputs": [],
   "source": [
    "from numba import njit, prange\n",
    "\n",
    "@njit(parallel=True)\n",
    "def compute_triplet_imbalance(df_values, comb_indices):\n",
    "    num_rows = df_values.shape[0]\n",
    "    num_combinations = len(comb_indices)\n",
    "    imbalance_features = np.empty((num_rows, num_combinations))\n",
    "    for i in prange(num_combinations):\n",
    "        a, b, c = comb_indices[i]\n",
    "        for j in range(num_rows):\n",
    "            max_val = max(df_values[j, a], df_values[j, b], df_values[j, c])\n",
    "            min_val = min(df_values[j, a], df_values[j, b], df_values[j, c])\n",
    "            mid_val = df_values[j, a] + df_values[j, b] + df_values[j, c] - min_val - max_val\n",
    "            \n",
    "            if mid_val == min_val:\n",
    "                imbalance_features[j, i] = np.nan\n",
    "            else:\n",
    "                imbalance_features[j, i] = (max_val - mid_val) / (mid_val - min_val)\n",
    "\n",
    "    return imbalance_features\n",
    "\n",
    "def calculate_triplet_imbalance_numba(price, df):\n",
    "    df_values = df[price].values\n",
    "    comb_indices = [(price.index(a), price.index(b), price.index(c)) for a, b, c in combinations(price, 3)]\n",
    "    features_array = compute_triplet_imbalance(df_values, comb_indices)\n",
    "    columns = [f\"{a}_{b}_{c}_imb2\" for a, b, c in combinations(price, 3)]\n",
    "    features = pd.DataFrame(features_array, columns=columns)\n",
    "    return features\n"
   ]
  },
  {
   "cell_type": "markdown",
   "id": "fcb572de",
   "metadata": {
    "papermill": {
     "duration": 0.004383,
     "end_time": "2023-11-07T10:53:42.023421",
     "exception": false,
     "start_time": "2023-11-07T10:53:42.019038",
     "status": "completed"
    },
    "tags": []
   },
   "source": [
    "# Feature Generation Functions "
   ]
  },
  {
   "cell_type": "code",
   "execution_count": null,
   "id": "b8f0f3c1",
   "metadata": {
    "execution": {
     "iopub.execute_input": "2023-11-07T10:53:42.034230Z",
     "iopub.status.busy": "2023-11-07T10:53:42.033901Z",
     "iopub.status.idle": "2023-11-07T10:53:42.052028Z",
     "shell.execute_reply": "2023-11-07T10:53:42.051267Z"
    },
    "papermill": {
     "duration": 0.025903,
     "end_time": "2023-11-07T10:53:42.054015",
     "exception": false,
     "start_time": "2023-11-07T10:53:42.028112",
     "status": "completed"
    },
    "tags": []
   },
   "outputs": [],
   "source": [
    "def imbalance_features(df):\n",
    "    # Define lists of price and size-related column names\n",
    "    prices = [\"reference_price\", \"far_price\", \"near_price\", \"ask_price\", \"bid_price\", \"wap\"]\n",
    "    sizes = [\"matched_size\", \"bid_size\", \"ask_size\", \"imbalance_size\"]\n",
    "    df[\"volume\"] = df.eval(\"ask_size + bid_size\")\n",
    "    df[\"mid_price\"] = df.eval(\"(ask_price + bid_price) / 2\")\n",
    "    df[\"liquidity_imbalance\"] = df.eval(\"(bid_size-ask_size)/(bid_size+ask_size)\")\n",
    "    df[\"matched_imbalance\"] = df.eval(\"(imbalance_size-matched_size)/(matched_size+imbalance_size)\")\n",
    "    df[\"size_imbalance\"] = df.eval(\"bid_size / ask_size\")\n",
    "    \n",
    "    df[\"stock_weights\"] = df[\"stock_id\"].map(weights)\n",
    "    df[\"weighted_wap\"] = df[\"stock_weights\"] * df[\"wap\"]\n",
    "    weighted_w = df.groupby('time_id')['weighted_wap'].sum()/df.groupby('time_id')['stock_weights'].sum()\n",
    "    weighted_w = weighted_w.reset_index()\n",
    "    weighted_w.columns = ['time_id','wapindex']\n",
    "    df = pd.merge(df,weighted_w,how='left',on='time_id')\n",
    "    df['wapdiff'] = df['wap'] - df['wapindex']\n",
    "    for c in combinations(prices, 2):\n",
    "        df[f\"{c[0]}_{c[1]}_imb\"] = df.eval(f\"({c[0]} - {c[1]})/({c[0]} + {c[1]})\")\n",
    "\n",
    "    for c in [['ask_price', 'bid_price', 'wap', 'reference_price'], sizes]:\n",
    "        triplet_feature = calculate_triplet_imbalance_numba(c, df)\n",
    "        df[triplet_feature.columns] = triplet_feature.values\n",
    "   \n",
    "    df[\"imbalance_momentum\"] = df.groupby(['stock_id'])['imbalance_size'].diff(periods=1) / df['matched_size']\n",
    "    df[\"price_spread\"] = df[\"ask_price\"] - df[\"bid_price\"]\n",
    "    df[\"spread_intensity\"] = df.groupby(['stock_id'])['price_spread'].diff()\n",
    "    df['price_pressure'] = df['imbalance_size'] * (df['ask_price'] - df['bid_price'])\n",
    "    df['market_urgency'] = df['price_spread'] * df['liquidity_imbalance']\n",
    "    df['depth_pressure'] = (df['ask_size'] - df['bid_size']) * (df['far_price'] - df['near_price'])\n",
    "    \n",
    "    # Calculate various statistical aggregation features\n",
    "    for func in [\"mean\", \"std\", \"skew\", \"kurt\"]:\n",
    "        df[f\"all_prices_{func}\"] = df[prices].agg(func, axis=1)\n",
    "        df[f\"all_sizes_{func}\"] = df[sizes].agg(func, axis=1)\n",
    "        \n",
    "\n",
    "    for col in ['matched_size', 'imbalance_size', 'reference_price', 'imbalance_buy_sell_flag','wapdiff','wap']:\n",
    "        for window in [1, 2, 3, 5, 10]:\n",
    "            df[f\"{col}_shift_{window}\"] = df.groupby('stock_id')[col].shift(window)\n",
    "            df[f\"{col}_ret_{window}\"] = df.groupby('stock_id')[col].pct_change(window)\n",
    "    \n",
    "    # Calculate diff features for specific columns\n",
    "    for col in ['ask_price', 'bid_price', 'ask_size', 'bid_size', 'weighted_wap','price_spread','wapdiff']:\n",
    "        for window in [1, 2, 3, 5, 10]:\n",
    "            df[f\"{col}_diff_{window}\"] = df.groupby(\"stock_id\")[col].diff(window)\n",
    "\n",
    "    return df.replace([np.inf, -np.inf], 0)\n",
    "\n",
    "def other_features(df):\n",
    "    df[\"dow\"] = df[\"date_id\"] % 5  # Day of the week\n",
    "    df[\"seconds\"] = df[\"seconds_in_bucket\"] % 60  \n",
    "    df[\"minute\"] = df[\"seconds_in_bucket\"] // 60  \n",
    "    for key, value in global_stock_id_feats.items():\n",
    "        df[f\"global_{key}\"] = df[\"stock_id\"].map(value.to_dict())\n",
    "\n",
    "    return df\n",
    "\n",
    "def generate_all_features(df):\n",
    "    # Select relevant columns for feature generation\n",
    "#     cols = [c for c in df.columns if c not in [\"row_id\", \"time_id\", \"target\"]]\n",
    "#     df = df[cols]\n",
    "    \n",
    "    # Generate imbalance features\n",
    "    df = imbalance_features(df)\n",
    "    df = other_features(df)\n",
    "    gc.collect()  \n",
    "    feature_name = [i for i in df.columns if i not in [\"row_id\", \"target\", \"time_id\", \"date_id\"]]\n",
    "    \n",
    "    return df[feature_name]\n"
   ]
  },
  {
   "cell_type": "code",
   "execution_count": null,
   "id": "dbf858dc",
   "metadata": {
    "execution": {
     "iopub.execute_input": "2023-11-07T10:53:42.064279Z",
     "iopub.status.busy": "2023-11-07T10:53:42.063982Z",
     "iopub.status.idle": "2023-11-07T10:53:42.076078Z",
     "shell.execute_reply": "2023-11-07T10:53:42.075343Z"
    },
    "papermill": {
     "duration": 0.019497,
     "end_time": "2023-11-07T10:53:42.078081",
     "exception": false,
     "start_time": "2023-11-07T10:53:42.058584",
     "status": "completed"
    },
    "tags": []
   },
   "outputs": [],
   "source": [
    "weights = [\n",
    "    0.004, 0.001, 0.002, 0.006, 0.004, 0.004, 0.002, 0.006, 0.006, 0.002, 0.002, 0.008,\n",
    "    0.006, 0.002, 0.008, 0.006, 0.002, 0.006, 0.004, 0.002, 0.004, 0.001, 0.006, 0.004,\n",
    "    0.002, 0.002, 0.004, 0.002, 0.004, 0.004, 0.001, 0.001, 0.002, 0.002, 0.006, 0.004,\n",
    "    0.004, 0.004, 0.006, 0.002, 0.002, 0.04 , 0.002, 0.002, 0.004, 0.04 , 0.002, 0.001,\n",
    "    0.006, 0.004, 0.004, 0.006, 0.001, 0.004, 0.004, 0.002, 0.006, 0.004, 0.006, 0.004,\n",
    "    0.006, 0.004, 0.002, 0.001, 0.002, 0.004, 0.002, 0.008, 0.004, 0.004, 0.002, 0.004,\n",
    "    0.006, 0.002, 0.004, 0.004, 0.002, 0.004, 0.004, 0.004, 0.001, 0.002, 0.002, 0.008,\n",
    "    0.02 , 0.004, 0.006, 0.002, 0.02 , 0.002, 0.002, 0.006, 0.004, 0.002, 0.001, 0.02,\n",
    "    0.006, 0.001, 0.002, 0.004, 0.001, 0.002, 0.006, 0.006, 0.004, 0.006, 0.001, 0.002,\n",
    "    0.004, 0.006, 0.006, 0.001, 0.04 , 0.006, 0.002, 0.004, 0.002, 0.002, 0.006, 0.002,\n",
    "    0.002, 0.004, 0.006, 0.006, 0.002, 0.002, 0.008, 0.006, 0.004, 0.002, 0.006, 0.002,\n",
    "    0.004, 0.006, 0.002, 0.004, 0.001, 0.004, 0.002, 0.004, 0.008, 0.006, 0.008, 0.002,\n",
    "    0.004, 0.002, 0.001, 0.004, 0.004, 0.004, 0.006, 0.008, 0.004, 0.001, 0.001, 0.002,\n",
    "    0.006, 0.004, 0.001, 0.002, 0.006, 0.004, 0.006, 0.008, 0.002, 0.002, 0.004, 0.002,\n",
    "    0.04 , 0.002, 0.002, 0.004, 0.002, 0.002, 0.006, 0.02 , 0.004, 0.002, 0.006, 0.02,\n",
    "    0.001, 0.002, 0.006, 0.004, 0.006, 0.004, 0.004, 0.004, 0.004, 0.002, 0.004, 0.04,\n",
    "    0.002, 0.008, 0.002, 0.004, 0.001, 0.004, 0.006, 0.004,\n",
    "]\n",
    "weights = {int(k):v for k,v in enumerate(weights)}"
   ]
  },
  {
   "cell_type": "markdown",
   "id": "348dd64c",
   "metadata": {
    "papermill": {
     "duration": 0.004314,
     "end_time": "2023-11-07T10:53:42.087120",
     "exception": false,
     "start_time": "2023-11-07T10:53:42.082806",
     "status": "completed"
    },
    "tags": []
   },
   "source": [
    "## Data Splitting"
   ]
  },
  {
   "cell_type": "code",
   "execution_count": null,
   "id": "1510625a",
   "metadata": {
    "execution": {
     "iopub.execute_input": "2023-11-07T10:53:42.097422Z",
     "iopub.status.busy": "2023-11-07T10:53:42.097133Z",
     "iopub.status.idle": "2023-11-07T10:53:42.102721Z",
     "shell.execute_reply": "2023-11-07T10:53:42.101855Z"
    },
    "papermill": {
     "duration": 0.013237,
     "end_time": "2023-11-07T10:53:42.104803",
     "exception": false,
     "start_time": "2023-11-07T10:53:42.091566",
     "status": "completed"
    },
    "tags": []
   },
   "outputs": [],
   "source": [
    "if is_offline:\n",
    "    \n",
    "    df_train = df[df[\"date_id\"] <= split_day]\n",
    "    df_valid = df[df[\"date_id\"] > split_day]\n",
    "    print(\"Offline mode\")\n",
    "    print(f\"train : {df_train.shape}, valid : {df_valid.shape}\")\n",
    "else:\n",
    "    df_train = df\n",
    "    print(\"Online mode\")\n"
   ]
  },
  {
   "cell_type": "code",
   "execution_count": null,
   "id": "e42621f9",
   "metadata": {
    "execution": {
     "iopub.execute_input": "2023-11-07T10:53:42.115263Z",
     "iopub.status.busy": "2023-11-07T10:53:42.114993Z",
     "iopub.status.idle": "2023-11-07T10:54:46.774371Z",
     "shell.execute_reply": "2023-11-07T10:54:46.773329Z"
    },
    "papermill": {
     "duration": 64.667305,
     "end_time": "2023-11-07T10:54:46.776889",
     "exception": false,
     "start_time": "2023-11-07T10:53:42.109584",
     "status": "completed"
    },
    "tags": []
   },
   "outputs": [],
   "source": [
    "if is_train:\n",
    "    global_stock_id_feats = {\n",
    "        \"median_size\": df_train.groupby(\"stock_id\")[\"bid_size\"].median() + df_train.groupby(\"stock_id\")[\"ask_size\"].median(),\n",
    "        \"std_size\": df_train.groupby(\"stock_id\")[\"bid_size\"].std() + df_train.groupby(\"stock_id\")[\"ask_size\"].std(),\n",
    "        \"ptp_size\": df_train.groupby(\"stock_id\")[\"bid_size\"].max() - df_train.groupby(\"stock_id\")[\"bid_size\"].min(),\n",
    "        \"median_price\": df_train.groupby(\"stock_id\")[\"bid_price\"].median() + df_train.groupby(\"stock_id\")[\"ask_price\"].median(),\n",
    "        \"std_price\": df_train.groupby(\"stock_id\")[\"bid_price\"].std() + df_train.groupby(\"stock_id\")[\"ask_price\"].std(),\n",
    "        \"ptp_price\": df_train.groupby(\"stock_id\")[\"bid_price\"].max() - df_train.groupby(\"stock_id\")[\"ask_price\"].min(),\n",
    "    }\n",
    "    if is_offline:\n",
    "        df_train_feats = generate_all_features(df_train)\n",
    "        print(\"Build Train Feats Finished.\")\n",
    "        df_valid_feats = generate_all_features(df_valid)\n",
    "        print(\"Build Valid Feats Finished.\")\n",
    "        df_valid_feats = reduce_mem_usage(df_valid_feats)\n",
    "    else:\n",
    "        df_train_feats = generate_all_features(df_train)\n",
    "        print(\"Build Online Train Feats Finished.\")\n",
    "\n",
    "    df_train_feats = reduce_mem_usage(df_train_feats)\n"
   ]
  },
  {
   "cell_type": "code",
   "execution_count": null,
   "id": "611c3288",
   "metadata": {
    "execution": {
     "iopub.execute_input": "2023-11-07T10:54:46.788264Z",
     "iopub.status.busy": "2023-11-07T10:54:46.787947Z",
     "iopub.status.idle": "2023-11-07T13:26:41.054117Z",
     "shell.execute_reply": "2023-11-07T13:26:41.053131Z"
    },
    "papermill": {
     "duration": 9114.29972,
     "end_time": "2023-11-07T13:26:41.081568",
     "exception": false,
     "start_time": "2023-11-07T10:54:46.781848",
     "status": "completed"
    },
    "tags": []
   },
   "outputs": [],
   "source": [
    "import numpy as np\n",
    "import lightgbm as lgb\n",
    "from sklearn.metrics import mean_absolute_error\n",
    "import gc\n",
    "\n",
    "lgb_params = {\n",
    "    \"objective\": \"mae\",\n",
    "    \"n_estimators\": 6300,\n",
    "    \"num_leaves\": 256,\n",
    "    \"subsample\": 0.7,\n",
    "    \"colsample_bytree\": 0.7,\n",
    "    \"learning_rate\": 0.01,\n",
    "    'max_depth': 11,\n",
    "    \"n_jobs\": 4,\n",
    "    \"device\": \"gpu\",\n",
    "    \"verbosity\": -1,\n",
    "    \"importance_type\": \"gain\",\n",
    "    \"reg_alpha\": 0.2,\n",
    "    \"reg_lambda\": 3\n",
    "}\n",
    "feature_name = list(df_train_feats.columns)\n",
    "print(f\"Feature length = {len(feature_name)}\")\n",
    "\n",
    "num_folds = 5\n",
    "fold_size = 480 // num_folds\n",
    "gap = 5\n",
    "\n",
    "models = []\n",
    "scores = []\n",
    "\n",
    "model_save_path = 'modelitos_para_despues' \n",
    "if not os.path.exists(model_save_path):\n",
    "    os.makedirs(model_save_path)\n",
    "\n",
    "date_ids = df_train['date_id'].values\n",
    "\n",
    "for i in range(num_folds):\n",
    "    start = i * fold_size\n",
    "    end = start + fold_size\n",
    "#     if i < num_folds - 1:  # No need to purge after the last fold\n",
    "#         purged_start = end - 2\n",
    "#         purged_end = end + gap + 2\n",
    "    train_indices = (date_ids < start) | (date_ids > end)\n",
    "#     else:\n",
    "    test_indices = (date_ids >= start) & (date_ids < end)\n",
    "    \n",
    "#     test_indices = (date_ids >= end) & (date_ids < end + fold_size)\n",
    "    \n",
    "    df_fold_train = df_train_feats[train_indices]\n",
    "    df_fold_train_target = df_train['target'][train_indices]\n",
    "    df_fold_valid = df_train_feats[test_indices]\n",
    "    df_fold_valid_target = df_train['target'][test_indices]\n",
    "\n",
    "    print(f\"Fold {i+1} Model Training\")\n",
    "    \n",
    "    # Train a LightGBM model for the current fold\n",
    "    lgb_model = lgb.LGBMRegressor(**lgb_params)\n",
    "    lgb_model.fit(\n",
    "        df_fold_train[feature_name],\n",
    "        df_fold_train_target,\n",
    "        eval_set=[(df_fold_valid[feature_name], df_fold_valid_target)],\n",
    "        callbacks=[\n",
    "            lgb.callback.early_stopping(stopping_rounds=100),\n",
    "            lgb.callback.log_evaluation(period=100),\n",
    "        ],\n",
    "    )\n",
    "\n",
    "    models.append(lgb_model)\n",
    "    # Save the model to a file\n",
    "    model_filename = os.path.join(model_save_path, f'doblez_{i+1}.txt')\n",
    "    lgb_model.booster_.save_model(model_filename)\n",
    "    print(f\"Model for fold {i+1} saved to {model_filename}\")\n",
    "\n",
    "    # Evaluate model performance on the validation set\n",
    "    fold_predictions = lgb_model.predict(df_fold_valid[feature_name])\n",
    "    fold_score = mean_absolute_error(fold_predictions, df_fold_valid_target)\n",
    "    scores.append(fold_score)\n",
    "    print(f\"Fold {i+1} MAE: {fold_score}\")\n",
    "\n",
    "    # Free up memory by deleting fold specific variables\n",
    "    del df_fold_train, df_fold_train_target, df_fold_valid, df_fold_valid_target\n",
    "    gc.collect()\n",
    "\n",
    "# Calculate the average best iteration from all regular folds\n",
    "average_best_iteration = int(np.mean([model.best_iteration_ for model in models]))\n",
    "\n",
    "# Update the lgb_params with the average best iteration\n",
    "final_model_params = lgb_params.copy()\n",
    "final_model_params['n_estimators'] = average_best_iteration\n",
    "\n",
    "print(f\"Training final model with average best iteration: {average_best_iteration}\")\n",
    "\n",
    "# Train the final model on the entire dataset\n",
    "final_model = lgb.LGBMRegressor(**final_model_params)\n",
    "final_model.fit(\n",
    "    df_train_feats[feature_name],\n",
    "    df_train['target'],\n",
    "    callbacks=[\n",
    "        lgb.callback.log_evaluation(period=100),\n",
    "    ],\n",
    ")\n",
    "\n",
    "# Append the final model to the list of models\n",
    "models.append(final_model)\n",
    "\n",
    "# Save the final model to a file\n",
    "final_model_filename = os.path.join(model_save_path, 'doblez-conjunto.txt')\n",
    "final_model.booster_.save_model(final_model_filename)\n",
    "print(f\"Final model saved to {final_model_filename}\")\n",
    "\n",
    "# Now 'models' holds the trained models for each fold and 'scores' holds the validation scores\n",
    "print(f\"Average MAE across all folds: {np.mean(scores)}\")\n"
   ]
  },
  {
   "cell_type": "code",
   "execution_count": null,
   "id": "2605a2b5",
   "metadata": {
    "execution": {
     "iopub.execute_input": "2023-11-07T13:26:41.137014Z",
     "iopub.status.busy": "2023-11-07T13:26:41.136186Z",
     "iopub.status.idle": "2023-11-07T13:28:41.830949Z",
     "shell.execute_reply": "2023-11-07T13:28:41.829869Z"
    },
    "papermill": {
     "duration": 120.7268,
     "end_time": "2023-11-07T13:28:41.833071",
     "exception": false,
     "start_time": "2023-11-07T13:26:41.106271",
     "status": "completed"
    },
    "tags": []
   },
   "outputs": [],
   "source": [
    "def zero_sum(prices, volumes):\n",
    "    std_error = np.sqrt(volumes)\n",
    "    step = np.sum(prices) / np.sum(std_error)\n",
    "    out = prices - std_error * step\n",
    "    return out\n",
    "\n",
    "if is_infer:\n",
    "    import optiver2023\n",
    "    env = optiver2023.make_env()\n",
    "    iter_test = env.iter_test()\n",
    "\n",
    "    counter = 0\n",
    "    y_min, y_max = -64, 64\n",
    "    qps, predictions = [], []\n",
    "    cache = pd.DataFrame()\n",
    "\n",
    "    # Weights for each fold model\n",
    "    model_weights = [1/len(models)] * len(models) \n",
    "    \n",
    "    for (test, revealed_targets, sample_prediction) in iter_test:\n",
    "        now_time = time.time()\n",
    "        try:\n",
    "            columns_given = ['seconds_in_bucket', 'imbalance_size',\n",
    "             'imbalance_buy_sell_flag', 'reference_price', 'matched_size',\n",
    "             'far_price', 'near_price', 'bid_price', 'bid_size',\n",
    "             'ask_price', 'ask_size', 'wap']\n",
    "        \n",
    "            test[columns_given] = test[columns_given].astype(float)\n",
    "        except:\n",
    "            print('bug')\n",
    "        test['time_id'] = test['date_id'].astype(str) +'_'+test['seconds_in_bucket'].astype(str)\n",
    "\n",
    "        \n",
    "        cache = pd.concat([cache, test], ignore_index=True, axis=0)\n",
    "        if counter > 0:\n",
    "            cache = cache.groupby(['stock_id']).tail(21).sort_values(by=['date_id', 'seconds_in_bucket', 'stock_id']).reset_index(drop=True)\n",
    "        \n",
    "        if test.currently_scored.iloc[0]== False:\n",
    "            sample_prediction['target'] = 0\n",
    "            env.predict(sample_prediction)\n",
    "            counter += 1\n",
    "            qps.append(time.time() - now_time)\n",
    "            if counter % 10 == 0:\n",
    "                print(counter, 'qps:', np.mean(qps))\n",
    "            continue\n",
    "        try:\n",
    "            feat = generate_all_features(cache)[-len(test):]\n",
    "\n",
    "            # Generate predictions for each model and calculate the weighted average\n",
    "            lgb_predictions = np.zeros(len(test))\n",
    "            for model, weight in zip(models, model_weights):\n",
    "                lgb_predictions += weight * model.predict(feat[feature_name])\n",
    "            lgb_predictions = lgb_predictions - np.mean(lgb_predictions)\n",
    "            clipped_predictions = np.clip(lgb_predictions, y_min, y_max)\n",
    "            sample_prediction['target'] = clipped_predictions\n",
    "        except:\n",
    "            sample_prediction['target'] = 0\n",
    "\n",
    "        env.predict(sample_prediction)\n",
    "        counter += 1\n",
    "        qps.append(time.time() - now_time)\n",
    "        if counter % 10 == 0:\n",
    "            print(counter, 'qps:', np.mean(qps))\n",
    "\n",
    "    time_cost = 1.146 * np.mean(qps)\n",
    "    print(f\"The code will take approximately {np.round(time_cost, 4)} hours to reason about\")\n"
   ]
  },
  {
   "cell_type": "code",
   "execution_count": null,
   "id": "20a84334",
   "metadata": {},
   "outputs": [],
   "source": []
  }
 ],
 "metadata": {
  "kernelspec": {
   "display_name": "Python 3 (ipykernel)",
   "language": "python",
   "name": "python3"
  },
  "language_info": {
   "codemirror_mode": {
    "name": "ipython",
    "version": 3
   },
   "file_extension": ".py",
   "mimetype": "text/x-python",
   "name": "python",
   "nbconvert_exporter": "python",
   "pygments_lexer": "ipython3",
   "version": "3.9.13"
  },
  "papermill": {
   "default_parameters": {},
   "duration": 9329.565671,
   "end_time": "2023-11-07T13:28:43.602913",
   "environment_variables": {},
   "exception": null,
   "input_path": "__notebook__.ipynb",
   "output_path": "__notebook__.ipynb",
   "parameters": {},
   "start_time": "2023-11-07T10:53:14.037242",
   "version": "2.4.0"
  }
 },
 "nbformat": 4,
 "nbformat_minor": 5
}
